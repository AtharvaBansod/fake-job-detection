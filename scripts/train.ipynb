{
 "cells": [
  {
   "cell_type": "code",
   "execution_count": 1,
   "id": "ae1d41b1",
   "metadata": {},
   "outputs": [],
   "source": [
    "import joblib\n",
    "from sklearn.linear_model import LogisticRegression\n",
    "from sklearn.naive_bayes import MultinomialNB\n",
    "from sklearn.ensemble import RandomForestClassifier\n",
    "from sklearn.model_selection import GridSearchCV\n",
    "from sklearn.metrics import classification_report, confusion_matrix, roc_auc_score"
   ]
  },
  {
   "cell_type": "code",
   "execution_count": 2,
   "id": "83e62780",
   "metadata": {},
   "outputs": [],
   "source": [
    "\n",
    "# Load preprocessed data\n",
    "X_train, y_train = joblib.load('../data/X_train_y_train.pkl')\n",
    "X_test, y_test = joblib.load('../data/X_test_y_test.pkl')\n"
   ]
  },
  {
   "cell_type": "code",
   "execution_count": 3,
   "id": "c4561141",
   "metadata": {},
   "outputs": [
    {
     "name": "stdout",
     "output_type": "stream",
     "text": [
      "🔍 Best Logistic Regression Params: {'C': 10, 'penalty': 'l2', 'solver': 'lbfgs'}\n",
      "\n",
      "📈 Logistic Regression Classification Report:\n",
      "              precision    recall  f1-score   support\n",
      "\n",
      "           0       0.99      0.99      0.99      3403\n",
      "           1       0.86      0.87      0.87       173\n",
      "\n",
      "    accuracy                           0.99      3576\n",
      "   macro avg       0.93      0.93      0.93      3576\n",
      "weighted avg       0.99      0.99      0.99      3576\n",
      "\n",
      "ROC-AUC: 0.9886890010344492\n"
     ]
    },
    {
     "name": "stderr",
     "output_type": "stream",
     "text": [
      "c:\\Users\\HP\\AppData\\Local\\Programs\\Python\\Python312\\Lib\\site-packages\\sklearn\\linear_model\\_logistic.py:469: ConvergenceWarning: lbfgs failed to converge (status=1):\n",
      "STOP: TOTAL NO. of ITERATIONS REACHED LIMIT.\n",
      "\n",
      "Increase the number of iterations (max_iter) or scale the data as shown in:\n",
      "    https://scikit-learn.org/stable/modules/preprocessing.html\n",
      "Please also refer to the documentation for alternative solver options:\n",
      "    https://scikit-learn.org/stable/modules/linear_model.html#logistic-regression\n",
      "  n_iter_i = _check_optimize_result(\n"
     ]
    },
    {
     "data": {
      "text/plain": [
       "['../models/logistic_model.pkl']"
      ]
     },
     "execution_count": 3,
     "metadata": {},
     "output_type": "execute_result"
    }
   ],
   "source": [
    "\n",
    "# ----------------------------\n",
    "# Model 1: Logistic Regression\n",
    "# ----------------------------\n",
    "log_reg = LogisticRegression(class_weight='balanced', max_iter=1000)\n",
    "\n",
    "log_params = {\n",
    "    'C': [0.01, 0.1, 1, 10],\n",
    "    'penalty': ['l2'],\n",
    "    'solver': ['lbfgs']\n",
    "}\n",
    "\n",
    "grid_log = GridSearchCV(log_reg, log_params, cv=5, scoring='f1', n_jobs=-1)\n",
    "grid_log.fit(X_train, y_train)\n",
    "\n",
    "print(\"🔍 Best Logistic Regression Params:\", grid_log.best_params_)\n",
    "print(\"\\n📈 Logistic Regression Classification Report:\")\n",
    "print(classification_report(y_test, grid_log.predict(X_test)))\n",
    "print(\"ROC-AUC:\", roc_auc_score(y_test, grid_log.predict_proba(X_test)[:, 1]))\n",
    "\n",
    "# Save model\n",
    "joblib.dump(grid_log.best_estimator_, '../models/logistic_model.pkl')"
   ]
  },
  {
   "cell_type": "code",
   "execution_count": 4,
   "id": "c636742a",
   "metadata": {},
   "outputs": [
    {
     "name": "stdout",
     "output_type": "stream",
     "text": [
      "\n",
      "📈 Naive Bayes Classification Report:\n",
      "              precision    recall  f1-score   support\n",
      "\n",
      "           0       0.98      0.98      0.98      3403\n",
      "           1       0.65      0.55      0.60       173\n",
      "\n",
      "    accuracy                           0.96      3576\n",
      "   macro avg       0.81      0.77      0.79      3576\n",
      "weighted avg       0.96      0.96      0.96      3576\n",
      "\n",
      "ROC-AUC: 0.9259561862280647\n"
     ]
    },
    {
     "data": {
      "text/plain": [
       "['../models/naive_bayes_model.pkl']"
      ]
     },
     "execution_count": 4,
     "metadata": {},
     "output_type": "execute_result"
    }
   ],
   "source": [
    "\n",
    "# ----------------------------\n",
    "# Model 2: Multinomial Naive Bayes\n",
    "# ----------------------------\n",
    "# Naive Bayes works well for text data; sparse matrix expected\n",
    "nb_model = MultinomialNB()\n",
    "nb_model.fit(X_train, y_train)\n",
    "\n",
    "print(\"\\n📈 Naive Bayes Classification Report:\")\n",
    "print(classification_report(y_test, nb_model.predict(X_test)))\n",
    "print(\"ROC-AUC:\", roc_auc_score(y_test, nb_model.predict_proba(X_test)[:, 1]))\n",
    "\n",
    "# Save model\n",
    "joblib.dump(nb_model, '../models/naive_bayes_model.pkl')"
   ]
  },
  {
   "cell_type": "code",
   "execution_count": 5,
   "id": "bdb44c04",
   "metadata": {},
   "outputs": [
    {
     "name": "stdout",
     "output_type": "stream",
     "text": [
      "\n",
      "📈 Random Forest Classification Report:\n",
      "              precision    recall  f1-score   support\n",
      "\n",
      "           0       0.98      1.00      0.99      3403\n",
      "           1       0.96      0.62      0.75       173\n",
      "\n",
      "    accuracy                           0.98      3576\n",
      "   macro avg       0.97      0.81      0.87      3576\n",
      "weighted avg       0.98      0.98      0.98      3576\n",
      "\n",
      "ROC-AUC: 0.9903791112568135\n",
      "✅ All models trained and saved successfully.\n"
     ]
    }
   ],
   "source": [
    "# ----------------------------\n",
    "# Model 3: Random Forest\n",
    "# ----------------------------\n",
    "rf_model = RandomForestClassifier(class_weight='balanced', random_state=42)\n",
    "\n",
    "rf_params = {\n",
    "    'n_estimators': [100, 200],\n",
    "    'max_depth': [10, 20, None],\n",
    "    'min_samples_split': [2, 5],\n",
    "}\n",
    "\n",
    "grid_rf = GridSearchCV(rf_model, rf_params, cv=3, scoring='f1', n_jobs=-1)\n",
    "grid_rf.fit(X_train, y_train)\n",
    "\n",
    "print(\"\\n📈 Random Forest Classification Report:\")\n",
    "print(classification_report(y_test, grid_rf.predict(X_test)))\n",
    "print(\"ROC-AUC:\", roc_auc_score(y_test, grid_rf.predict_proba(X_test)[:, 1]))\n",
    "\n",
    "# Save model\n",
    "joblib.dump(grid_rf.best_estimator_, '../models/random_forest_model.pkl')\n",
    "\n",
    "print(\"✅ All models trained and saved successfully.\")\n"
   ]
  },
  {
   "cell_type": "code",
   "execution_count": null,
   "id": "143994ed",
   "metadata": {},
   "outputs": [],
   "source": []
  }
 ],
 "metadata": {
  "kernelspec": {
   "display_name": "Python 3",
   "language": "python",
   "name": "python3"
  },
  "language_info": {
   "codemirror_mode": {
    "name": "ipython",
    "version": 3
   },
   "file_extension": ".py",
   "mimetype": "text/x-python",
   "name": "python",
   "nbconvert_exporter": "python",
   "pygments_lexer": "ipython3",
   "version": "3.12.4"
  }
 },
 "nbformat": 4,
 "nbformat_minor": 5
}
