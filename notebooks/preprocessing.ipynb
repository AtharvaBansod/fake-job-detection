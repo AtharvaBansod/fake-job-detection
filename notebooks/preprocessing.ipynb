{
 "cells": [
  {
   "cell_type": "code",
   "execution_count": 1,
   "id": "775f1212",
   "metadata": {},
   "outputs": [],
   "source": [
    "import pandas as pd\n",
    "import numpy as np\n",
    "from sklearn.model_selection import train_test_split\n",
    "from sklearn.preprocessing import OneHotEncoder\n",
    "from sklearn.feature_extraction.text import TfidfVectorizer\n",
    "from sklearn.compose import ColumnTransformer\n",
    "from sklearn.pipeline import Pipeline\n",
    "from sklearn.impute import SimpleImputer\n",
    "from sklearn.preprocessing import FunctionTransformer\n",
    "import joblib"
   ]
  },
  {
   "cell_type": "code",
   "execution_count": null,
   "id": "5e22f396",
   "metadata": {},
   "outputs": [],
   "source": [
    "# Load data\n",
    "df = pd.read_csv('../data/fake_job_postings.csv')"
   ]
  },
  {
   "cell_type": "code",
   "execution_count": null,
   "id": "3e2d0619",
   "metadata": {},
   "outputs": [],
   "source": [
    "# Drop duplicates\n",
    "df.drop_duplicates(inplace=True)\n",
    "# Target variable\n",
    "y = df['fraudulent']\n",
    "# Drop columns not useful for prediction\n",
    "df.drop(['job_id', 'fraudulent'], axis=1, inplace=True)\n",
    "# Fill missing text columns with empty string\n",
    "text_columns = ['title', 'company_profile', 'description', 'requirements', 'benefits']\n",
    "df[text_columns] = df[text_columns].fillna(\"\")\n",
    "# Add a new feature: description word count\n",
    "df['description_word_count'] = df['description'].apply(lambda x: len(x.split()))\n",
    "# Fill missing categorical columns with 'Unknown'\n",
    "cat_columns = ['employment_type', 'required_experience', 'required_education', 'industry', 'function']\n",
    "df[cat_columns] = df[cat_columns].fillna('Unknown')"
   ]
  },
  {
   "cell_type": "code",
   "execution_count": null,
   "id": "330099e7",
   "metadata": {},
   "outputs": [],
   "source": [
    "# --------------------------\n",
    "# Define Transformers\n",
    "# --------------------------\n",
    "# Text Vectorizer for descriptions\n",
    "text_vectorizer = TfidfVectorizer(max_features=5000, stop_words='english')\n",
    "# Categorical Encoder\n",
    "cat_encoder = OneHotEncoder(handle_unknown='ignore', sparse_output=False)\n",
    "# Preprocessing Pipeline\n",
    "preprocessor = ColumnTransformer(\n",
    "    transformers=[\n",
    "        ('desc', text_vectorizer, 'description'),\n",
    "        ('title', TfidfVectorizer(max_features=1000, stop_words='english'), 'title'),\n",
    "        ('requirements', TfidfVectorizer(max_features=1000, stop_words='english'), 'requirements'),\n",
    "        ('company_profile', TfidfVectorizer(max_features=500, stop_words='english'), 'company_profile'),\n",
    "        ('benefits', TfidfVectorizer(max_features=500, stop_words='english'), 'benefits'),\n",
    "        ('cat', cat_encoder, cat_columns),\n",
    "        ('num', 'passthrough', ['description_word_count']),\n",
    "    ]\n",
    ")"
   ]
  },
  {
   "cell_type": "code",
   "execution_count": null,
   "id": "3d490435",
   "metadata": {},
   "outputs": [],
   "source": [
    "\n",
    "# Split the data\n",
    "X_train, X_test, y_train, y_test = train_test_split(df, y, test_size=0.2, stratify=y, random_state=42)"
   ]
  },
  {
   "cell_type": "code",
   "execution_count": null,
   "id": "04686910",
   "metadata": {},
   "outputs": [],
   "source": [
    "# Fit transformer on train and transform both\n",
    "X_train_processed = preprocessor.fit_transform(X_train)\n",
    "X_test_processed = preprocessor.transform(X_test)"
   ]
  },
  {
   "cell_type": "code",
   "execution_count": null,
   "id": "6066c6ea",
   "metadata": {},
   "outputs": [
    {
     "name": "stdout",
     "output_type": "stream",
     "text": [
      "✅ Preprocessing complete. Saved: TF-IDF + Encoders + Split datasets.\n"
     ]
    }
   ],
   "source": [
    "# Save preprocessing objects for future inference\n",
    "joblib.dump(preprocessor, '../models/preprocessor.pkl')\n",
    "# Save processed data (optional, for offline use)\n",
    "joblib.dump((X_train_processed, y_train), '../data/X_train_y_train.pkl')\n",
    "joblib.dump((X_test_processed, y_test), '../data/X_test_y_test.pkl')\n",
    "print(\"✅ Preprocessing complete. Saved: TF-IDF + Encoders + Split datasets.\")"
   ]
  }
 ],
 "metadata": {
  "kernelspec": {
   "display_name": "Python 3",
   "language": "python",
   "name": "python3"
  },
  "language_info": {
   "codemirror_mode": {
    "name": "ipython",
    "version": 3
   },
   "file_extension": ".py",
   "mimetype": "text/x-python",
   "name": "python",
   "nbconvert_exporter": "python",
   "pygments_lexer": "ipython3",
   "version": "3.12.4"
  }
 },
 "nbformat": 4,
 "nbformat_minor": 5
}
